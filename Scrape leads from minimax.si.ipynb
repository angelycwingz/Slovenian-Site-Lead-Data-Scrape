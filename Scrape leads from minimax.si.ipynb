{
 "cells": [
  {
   "cell_type": "code",
   "execution_count": 88,
   "id": "4e4ccbea",
   "metadata": {},
   "outputs": [],
   "source": [
    "import requests\n",
    "from bs4 import BeautifulSoup\n",
    "import pandas as pd"
   ]
  },
  {
   "cell_type": "code",
   "execution_count": 37,
   "id": "89c66999",
   "metadata": {},
   "outputs": [],
   "source": [
    "url = \"https://www.minimax.si/zrs-podjetniki/\""
   ]
  },
  {
   "cell_type": "code",
   "execution_count": 38,
   "id": "648663b3",
   "metadata": {},
   "outputs": [],
   "source": [
    "data= requests.get(url)"
   ]
  },
  {
   "cell_type": "code",
   "execution_count": 39,
   "id": "2b8a6608",
   "metadata": {},
   "outputs": [],
   "source": [
    "html = data.text"
   ]
  },
  {
   "cell_type": "code",
   "execution_count": 40,
   "id": "b2405982",
   "metadata": {},
   "outputs": [],
   "source": [
    "soup = BeautifulSoup(html, \"html.parser\")"
   ]
  },
  {
   "cell_type": "code",
   "execution_count": 47,
   "id": "733e1838",
   "metadata": {},
   "outputs": [
    {
     "data": {
      "text/plain": [
       "<div class=\"modalno\">\n",
       "<div class=\"naziv_podjetja\"><strong>RAČUNOVODSKO SVETOVALNI SERVIS MIRA ZADRAVEC S.P.</strong></div>\n",
       "<div class=\"naslov\">\n",
       "<div>Kraigherjeva 19a</div>\n",
       "<div>2230 Lenart</div>\n",
       "</div>\n",
       "<div class=\"ime_priimek\"><strong>Mira Zadravec</strong></div>\n",
       "<div>\n",
       "<strong>Telefon: </strong>\n",
       "<a href=\"tel:(02) 720 66 06, 031 219 249\">(02) 720 66 06, 031 219 249</a>\n",
       "</div>\n",
       "<div>\n",
       "<strong>E-pošta: </strong>\n",
       "<a href=\"mailto:zadravec.mira.s.p@siol.net\">zadravec.mira.s.p@siol.net</a>\n",
       "</div>\n",
       "<div>\n",
       "<strong>Opis: </strong>V našem računovodsko svetovalnem servisu Mira ZADRAVEC S.P. smo specializirani za opravljanje:\n",
       "\n",
       "- Celovitih računovodskih in knjigovodskih storitev  za s.p in d.o.o.  (od A do\n",
       "  Ž)\n",
       "- Celovitih računovodskih in knjigovodskih storitev za javne zavode in društva\n",
       "  (od A do Ž)\n",
       "- Vodenje poslovnih knjig za kmete (od A do Ž)\n",
       "- Davčno in poslovno svetovanje\n",
       "- Kadrovsko svetovanje (prijave, odjave, pogodbe, odpovedi…)\n",
       "- Individualno svetovanje\n",
       "- Pomoč in svetovanje pri ustanovitvi, preoblikovanju, pripojitvi in razdelitvi\n",
       "  podjetij\n",
       "- Ostale visoko kvalitetne storitve s področja računovodstva, knjigovodstva ter\n",
       "  davčnega svetovanja\n",
       "- Pomoč pri izterjavi neplačanih računov – sami vlagamo sodne izvršbe\n",
       "- Priprava dokumentacije za pridobitev bančnih posojil\n",
       "\t\t\t\t\t\t\t\t\t\t</div>\n",
       "<a class=\"fancybox-item fancybox-close\" title=\"Close\"></a>\n",
       "</div>"
      ]
     },
     "execution_count": 47,
     "metadata": {},
     "output_type": "execute_result"
    }
   ],
   "source": [
    "divs = soup.find_all(\"div\", {\"class\": \"modalno\"})\n",
    "divs[0]"
   ]
  },
  {
   "cell_type": "code",
   "execution_count": 146,
   "id": "ab41b394",
   "metadata": {},
   "outputs": [],
   "source": [
    "firms_pd=pd.DataFrame(columns=[\"Firm\", \"First Name\", \"Last Name\", \"Phone Number\", \"Email\"])\n",
    "firm=\"\"\n",
    "f_name=\"\"\n",
    "l_name=\"\"\n",
    "phone=\"\"\n",
    "email=\"\"\n",
    "\n",
    "for div in divs:\n",
    "    firm=div.find(\"div\", {\"class\":\"naziv_podjetja\"}).text\n",
    "    name=div.find(\"div\",{\"class\":\"ime_priimek\"}).text\n",
    "    name_s=name.split(\" \")\n",
    "    f_name=name_s[0]\n",
    "    l_name=name_s[-1]\n",
    "    \n",
    "    href=div.find_all(\"a\",href=True)\n",
    "    phone=href[0].text\n",
    "    #phone=int(phone.replace(\"(\", \"\").replace(\")\",\"\").replace(\",\",\"\").replace(\" \",\"\"))\n",
    "    email=href[1].text\n",
    "    \n",
    "    firm_row={\"Firm\":[firm], \"First Name\": [f_name], \"Last Name\": [l_name], \"Phone Number\": [phone], \"Email\": [email]}\n",
    "    \n",
    "    firms_pd=pd.concat([firms_pd, pd.DataFrame(firm_row)], ignore_index=True)\n",
    "\n"
   ]
  },
  {
   "cell_type": "code",
   "execution_count": 145,
   "id": "a6bd2176",
   "metadata": {},
   "outputs": [],
   "source": [
    "firms_pd.drop(firms_pd.index, inplace=True)"
   ]
  },
  {
   "cell_type": "code",
   "execution_count": 147,
   "id": "fb9a6a5c",
   "metadata": {},
   "outputs": [
    {
     "data": {
      "text/html": [
       "<div>\n",
       "<style scoped>\n",
       "    .dataframe tbody tr th:only-of-type {\n",
       "        vertical-align: middle;\n",
       "    }\n",
       "\n",
       "    .dataframe tbody tr th {\n",
       "        vertical-align: top;\n",
       "    }\n",
       "\n",
       "    .dataframe thead th {\n",
       "        text-align: right;\n",
       "    }\n",
       "</style>\n",
       "<table border=\"1\" class=\"dataframe\">\n",
       "  <thead>\n",
       "    <tr style=\"text-align: right;\">\n",
       "      <th></th>\n",
       "      <th>Firm</th>\n",
       "      <th>First Name</th>\n",
       "      <th>Last Name</th>\n",
       "      <th>Phone Number</th>\n",
       "      <th>Email</th>\n",
       "    </tr>\n",
       "  </thead>\n",
       "  <tbody>\n",
       "    <tr>\n",
       "      <th>0</th>\n",
       "      <td>RAČUNOVODSKO SVETOVALNI SERVIS MIRA ZADRAVEC S.P.</td>\n",
       "      <td>Mira</td>\n",
       "      <td>Zadravec</td>\n",
       "      <td>(02) 720 66 06, 031 219 249</td>\n",
       "      <td>zadravec.mira.s.p@siol.net</td>\n",
       "    </tr>\n",
       "    <tr>\n",
       "      <th>1</th>\n",
       "      <td>IVANUŠA BOJAN S.P. - FIBOS RAČUNOVODSKI SERVIS</td>\n",
       "      <td>Bojan</td>\n",
       "      <td>Ivanuša</td>\n",
       "      <td>(02) 743 01 82</td>\n",
       "      <td>info@fibos.si</td>\n",
       "    </tr>\n",
       "    <tr>\n",
       "      <th>2</th>\n",
       "      <td>AMBROŽ D.O.O.</td>\n",
       "      <td>Anja</td>\n",
       "      <td>Ambrož</td>\n",
       "      <td>051 646 655</td>\n",
       "      <td>anja.ambroz@rs-ambroz.si</td>\n",
       "    </tr>\n",
       "    <tr>\n",
       "      <th>3</th>\n",
       "      <td>RAČUNOVODSKE STORITVE MARJETA TERBOVŠEK S.P.</td>\n",
       "      <td>Marjeta</td>\n",
       "      <td>Terbovšek</td>\n",
       "      <td>(03) 839 08 40</td>\n",
       "      <td>marjeta.terbovsek@siol.net</td>\n",
       "    </tr>\n",
       "    <tr>\n",
       "      <th>4</th>\n",
       "      <td>SAPERA, SVETOVANJE, RAČUNOVODSKE IN POSLOVNE S...</td>\n",
       "      <td>Neja</td>\n",
       "      <td>Jugovic</td>\n",
       "      <td>031 233 963</td>\n",
       "      <td>neja.jugovic@sapera.si</td>\n",
       "    </tr>\n",
       "    <tr>\n",
       "      <th>...</th>\n",
       "      <td>...</td>\n",
       "      <td>...</td>\n",
       "      <td>...</td>\n",
       "      <td>...</td>\n",
       "      <td>...</td>\n",
       "    </tr>\n",
       "    <tr>\n",
       "      <th>1108</th>\n",
       "      <td>ZDENKA PRESEČNIK FIRŠT</td>\n",
       "      <td>Zdenka</td>\n",
       "      <td>Firšt</td>\n",
       "      <td>041 248 724</td>\n",
       "      <td>zdenka.presecnik@gmail.com</td>\n",
       "    </tr>\n",
       "    <tr>\n",
       "      <th>1109</th>\n",
       "      <td>ZEUS DAVKI IN RAČUNOVODSTVO D.O.O.</td>\n",
       "      <td>Ingrid</td>\n",
       "      <td>Drozg</td>\n",
       "      <td>059 096 350</td>\n",
       "      <td>info@rs-zeus.si</td>\n",
       "    </tr>\n",
       "    <tr>\n",
       "      <th>1110</th>\n",
       "      <td>ŽIGA ZUPANIČ S.P.</td>\n",
       "      <td>Žiga</td>\n",
       "      <td>Zupanič</td>\n",
       "      <td>031 728 905</td>\n",
       "      <td>ganz212@gmail.com</td>\n",
       "    </tr>\n",
       "    <tr>\n",
       "      <th>1111</th>\n",
       "      <td>ZITIS D.O.O.</td>\n",
       "      <td>Petra</td>\n",
       "      <td>Rojc</td>\n",
       "      <td>041 268 474</td>\n",
       "      <td>petra.rojc@zitis.si</td>\n",
       "    </tr>\n",
       "    <tr>\n",
       "      <th>1112</th>\n",
       "      <td>ZORN ZADRGE, KNJIGOVODSKI SERVIS BORUT ZORN S.P.</td>\n",
       "      <td>Valentina</td>\n",
       "      <td>Zorn</td>\n",
       "      <td>031 713 311</td>\n",
       "      <td>zorn.zip@siol.net</td>\n",
       "    </tr>\n",
       "  </tbody>\n",
       "</table>\n",
       "<p>1113 rows × 5 columns</p>\n",
       "</div>"
      ],
      "text/plain": [
       "                                                   Firm First Name  Last Name  \\\n",
       "0     RAČUNOVODSKO SVETOVALNI SERVIS MIRA ZADRAVEC S.P.       Mira   Zadravec   \n",
       "1        IVANUŠA BOJAN S.P. - FIBOS RAČUNOVODSKI SERVIS      Bojan    Ivanuša   \n",
       "2                                         AMBROŽ D.O.O.       Anja     Ambrož   \n",
       "3          RAČUNOVODSKE STORITVE MARJETA TERBOVŠEK S.P.    Marjeta  Terbovšek   \n",
       "4     SAPERA, SVETOVANJE, RAČUNOVODSKE IN POSLOVNE S...       Neja    Jugovic   \n",
       "...                                                 ...        ...        ...   \n",
       "1108                             ZDENKA PRESEČNIK FIRŠT     Zdenka      Firšt   \n",
       "1109                 ZEUS DAVKI IN RAČUNOVODSTVO D.O.O.     Ingrid      Drozg   \n",
       "1110                                  ŽIGA ZUPANIČ S.P.       Žiga    Zupanič   \n",
       "1111                                       ZITIS D.O.O.      Petra       Rojc   \n",
       "1112   ZORN ZADRGE, KNJIGOVODSKI SERVIS BORUT ZORN S.P.  Valentina       Zorn   \n",
       "\n",
       "                     Phone Number                       Email  \n",
       "0     (02) 720 66 06, 031 219 249  zadravec.mira.s.p@siol.net  \n",
       "1                  (02) 743 01 82               info@fibos.si  \n",
       "2                     051 646 655    anja.ambroz@rs-ambroz.si  \n",
       "3                  (03) 839 08 40  marjeta.terbovsek@siol.net  \n",
       "4                     031 233 963      neja.jugovic@sapera.si  \n",
       "...                           ...                         ...  \n",
       "1108                  041 248 724  zdenka.presecnik@gmail.com  \n",
       "1109                  059 096 350             info@rs-zeus.si  \n",
       "1110                  031 728 905           ganz212@gmail.com  \n",
       "1111                  041 268 474         petra.rojc@zitis.si  \n",
       "1112                  031 713 311           zorn.zip@siol.net  \n",
       "\n",
       "[1113 rows x 5 columns]"
      ]
     },
     "execution_count": 147,
     "metadata": {},
     "output_type": "execute_result"
    }
   ],
   "source": [
    "firms_pd"
   ]
  },
  {
   "cell_type": "code",
   "execution_count": 149,
   "id": "26119d70",
   "metadata": {},
   "outputs": [],
   "source": [
    "firms_pd.to_excel(\"firms_data.xlsx\", index=False)"
   ]
  },
  {
   "cell_type": "code",
   "execution_count": null,
   "id": "4ea03c7d",
   "metadata": {},
   "outputs": [],
   "source": []
  }
 ],
 "metadata": {
  "kernelspec": {
   "display_name": "Python 3 (ipykernel)",
   "language": "python",
   "name": "python3"
  },
  "language_info": {
   "codemirror_mode": {
    "name": "ipython",
    "version": 3
   },
   "file_extension": ".py",
   "mimetype": "text/x-python",
   "name": "python",
   "nbconvert_exporter": "python",
   "pygments_lexer": "ipython3",
   "version": "3.10.9"
  }
 },
 "nbformat": 4,
 "nbformat_minor": 5
}
